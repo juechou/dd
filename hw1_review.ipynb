{
 "cells": [
  {
   "cell_type": "code",
   "execution_count": null,
   "metadata": {},
   "outputs": [],
   "source": [
    "from __future__ import print_function\n",
    "\n",
    "%matplotlib inline\n",
    "%precision 16\n",
    "\n",
    "import numpy\n",
    "import matplotlib.pyplot as plt"
   ]
  },
  {
   "cell_type": "markdown",
   "metadata": {
    "deletable": false,
    "editable": false,
    "nbgrader": {
     "cell_type": "markdown",
     "checksum": "a77ae68c85778d8eb2bbee96c6cf9b0d",
     "grade": false,
     "grade_id": "cell-2545612098144464",
     "locked": true,
     "schema_version": 3,
     "solution": false
    }
   },
   "source": [
    "Before you turn this problem in, make sure everything runs as expected. First, restart the kernel (in the menubar, select Kernel $\\rightarrow$ Restart) and then run all cells (in the menubar, select Cell $\\rightarrow$ Run All).\n",
    "\n",
    "Make sure you fill in any place that says YOUR CODE HERE or \"YOUR ANSWER HERE\", as well as your name and collaborators below:"
   ]
  },
  {
   "cell_type": "markdown",
   "metadata": {
    "deletable": false,
    "editable": false,
    "nbgrader": {
     "cell_type": "markdown",
     "checksum": "7b4f36e3080ed9e204596523ff30dd70",
     "grade": false,
     "grade_id": "cell-6603219379125166",
     "locked": true,
     "schema_version": 3,
     "solution": false
    }
   },
   "source": [
    "# HW 1:  Review"
   ]
  },
  {
   "cell_type": "markdown",
   "metadata": {
    "deletable": false,
    "editable": false,
    "nbgrader": {
     "cell_type": "markdown",
     "checksum": "3ff6d136afdddcd3fcdd0e1c33827064",
     "grade": false,
     "grade_id": "cell-3360170680828666",
     "locked": true,
     "schema_version": 3,
     "solution": false
    }
   },
   "source": [
    "## Question 1"
   ]
  },
  {
   "cell_type": "markdown",
   "metadata": {
    "deletable": false,
    "editable": false,
    "nbgrader": {
     "cell_type": "markdown",
     "checksum": "1b08cedd6229a5e622370b2dce36d8fb",
     "grade": false,
     "grade_id": "cell-9933212386794596",
     "locked": true,
     "schema_version": 3,
     "solution": false
    }
   },
   "source": [
    "**(a)** [5] Consider the polynomial\n",
    "$$\\begin{aligned}\n",
    "    p(x) &= (x - 2)^9 \\\\\n",
    "         &= x^9 - 18 x^8 + 144 x^7 - 672 x^6 + 2016 x^5 - 4032 x^4 + 5376 x^3- 4608 x^2+ 2304 x- 512.\n",
    "\\end{aligned}$$\n",
    "Plot the two different representations of the same polynomial above using the points $x = 1.920, 1.921, 1.922, \\ldots, 2.080$."
   ]
  },
  {
   "cell_type": "code",
   "execution_count": null,
   "metadata": {
    "deletable": false,
    "nbgrader": {
     "cell_type": "code",
     "checksum": "925f123e9b2b84732376409c2e970207",
     "grade": true,
     "grade_id": "cell-7314098343089560",
     "locked": false,
     "points": 5,
     "schema_version": 3,
     "solution": true
    }
   },
   "outputs": [],
   "source": [
    "# YOUR CODE HERE\n",
    "raise NotImplementedError()"
   ]
  },
  {
   "cell_type": "markdown",
   "metadata": {
    "deletable": false,
    "editable": false,
    "nbgrader": {
     "cell_type": "markdown",
     "checksum": "289d36c527c9dab1632a46f44796144e",
     "grade": false,
     "grade_id": "cell-1832413618149576",
     "locked": true,
     "schema_version": 3,
     "solution": false
    }
   },
   "source": [
    "**(b)** [5] Compute each of the terms in the polynomial above separately (i.e. compute `x**9` by itself, `-18.0 * x**8`, etc.) for the value at $x = 2$ and some other $x$ values very close to $2$."
   ]
  },
  {
   "cell_type": "code",
   "execution_count": null,
   "metadata": {
    "deletable": false,
    "nbgrader": {
     "cell_type": "code",
     "checksum": "164a1455c93792bf7ac0afa06c2ef21c",
     "grade": true,
     "grade_id": "cell-7411637601464065",
     "locked": false,
     "points": 5,
     "schema_version": 3,
     "solution": true
    }
   },
   "outputs": [],
   "source": [
    "# YOUR CODE HERE\n",
    "raise NotImplementedError()"
   ]
  },
  {
   "cell_type": "markdown",
   "metadata": {
    "deletable": false,
    "editable": false,
    "nbgrader": {
     "cell_type": "markdown",
     "checksum": "7722c1f7e5dfc4d9881f5ab685b067e7",
     "grade": false,
     "grade_id": "cell-5280853861818563",
     "locked": true,
     "schema_version": 3,
     "solution": false
    }
   },
   "source": [
    "**(c)** [10] Describe the behavior you see in part (a) using what you saw in part (b).  If these are analytically equivalent what is the source of the differences?  Be as specific as you can be."
   ]
  },
  {
   "cell_type": "markdown",
   "metadata": {
    "deletable": false,
    "nbgrader": {
     "cell_type": "markdown",
     "checksum": "0bee10aea159ce6e0e07a608aea8b3da",
     "grade": true,
     "grade_id": "cell-2221970078514962",
     "locked": false,
     "points": 10,
     "schema_version": 3,
     "solution": true
    }
   },
   "source": [
    "YOUR ANSWER HERE"
   ]
  },
  {
   "cell_type": "markdown",
   "metadata": {
    "deletable": false,
    "editable": false,
    "nbgrader": {
     "cell_type": "markdown",
     "checksum": "013209891c02415e9ccf32882904b961",
     "grade": false,
     "grade_id": "cell-9729460718691184",
     "locked": true,
     "schema_version": 3,
     "solution": false
    }
   },
   "source": [
    "## Question 2"
   ]
  },
  {
   "cell_type": "markdown",
   "metadata": {
    "deletable": false,
    "editable": false,
    "nbgrader": {
     "cell_type": "markdown",
     "checksum": "92a1deab7a088240751f55bb3b0bd1b6",
     "grade": false,
     "grade_id": "cell-8377356105842879",
     "locked": true,
     "schema_version": 3,
     "solution": false
    }
   },
   "source": [
    "**(a)** [15] Show how to derive analytically the backward finite difference approximation to the 1st derivative that is 2nd order accurate assuming a stencil that has equal width between the stencil points.  You can use the numerical method introduced in the lecture notes to check your work but you must show how to derive the coefficients analytically as well (you can use the procedure the function is based on).  Also make sure to explicitly find the leading order form of the truncation error $\\tau$."
   ]
  },
  {
   "cell_type": "markdown",
   "metadata": {
    "deletable": false,
    "nbgrader": {
     "cell_type": "markdown",
     "checksum": "459d345ca8976cf824420e24cfdd2d44",
     "grade": true,
     "grade_id": "cell-1951961903653690",
     "locked": false,
     "points": 15,
     "schema_version": 3,
     "solution": true
    }
   },
   "source": [
    "YOUR ANSWER HERE"
   ]
  },
  {
   "cell_type": "markdown",
   "metadata": {
    "deletable": false,
    "editable": false,
    "nbgrader": {
     "cell_type": "markdown",
     "checksum": "17fcaad785dea323b3f30a58506ed3d0",
     "grade": false,
     "grade_id": "cell-3559512629719341",
     "locked": true,
     "schema_version": 3,
     "solution": false
    }
   },
   "source": [
    "**(b)** [10] Write a function that computes this 1st derivative of an arbitrary function $f(x)$ using the backward difference approximation you used above.  The function should accept a set of points `x` to evaluate the 1st derivative at and the function `f`.  For the first points in `x` use the forward difference approximation that mirrors the one you just found (see the lecture notes)."
   ]
  },
  {
   "cell_type": "code",
   "execution_count": null,
   "metadata": {
    "deletable": false,
    "nbgrader": {
     "cell_type": "code",
     "checksum": "53a09c791f986ba798319ff1b5727950",
     "grade": false,
     "grade_id": "cell-9997494412735662",
     "locked": false,
     "schema_version": 3,
     "solution": true
    }
   },
   "outputs": [],
   "source": [
    "def compute_prime(x, f):\n",
    "    \"\"\"Compute the first derivative\"\"\"\n",
    "    # YOUR CODE HERE\n",
    "    raise NotImplementedError()\n",
    "    return f_prime"
   ]
  },
  {
   "cell_type": "code",
   "execution_count": null,
   "metadata": {
    "deletable": false,
    "editable": false,
    "nbgrader": {
     "cell_type": "code",
     "checksum": "f00e883da6033aa93d4e7e341e5606da",
     "grade": true,
     "grade_id": "cell-6147025779860527",
     "locked": true,
     "points": 10,
     "schema_version": 3,
     "solution": false
    }
   },
   "outputs": [],
   "source": [
    "f = lambda x: x**3 / numpy.sin(x)\n",
    "f_prime = lambda x: -x**3 * numpy.cos(x) / numpy.sin(x)**2 + 3.0 * x**2 / numpy.sin(x)\n",
    "x = numpy.linspace(0.25, 0.5 * numpy.pi, 150)\n",
    "numpy.testing.assert_allclose(compute_prime(x, f), f_prime(x), atol=1e-3)\n",
    "print(\"Success!\")"
   ]
  },
  {
   "cell_type": "markdown",
   "metadata": {
    "deletable": false,
    "editable": false,
    "nbgrader": {
     "cell_type": "markdown",
     "checksum": "ec30d937a7489375ae59146dbaaedb1f",
     "grade": false,
     "grade_id": "cell-9514730078955110",
     "locked": true,
     "schema_version": 3,
     "solution": false
    }
   },
   "source": [
    "**(c)** [15] Using your function above plot the derivative of the function and error convergence behavior for the functions.  \n",
    "$$\n",
    "    f(x) = \\frac{x^3}{\\sin x}, \\quad \\quad g(x) = |x - 3/2|, \\quad \\text{and} \\quad h(x) = \\left \\{ \\begin{aligned} 0 & & x < 3/2 \\\\ 1 & & x \\ge 3/2 \\end{aligned} \\right .\n",
    "$$\n",
    "on the interval $x \\in [1, 2]$.  Explain the behavior you see."
   ]
  },
  {
   "cell_type": "code",
   "execution_count": null,
   "metadata": {
    "deletable": false,
    "nbgrader": {
     "cell_type": "code",
     "checksum": "353742a8be23ca6c14165222309fa9e2",
     "grade": true,
     "grade_id": "cell-2489862782945804",
     "locked": false,
     "points": 10,
     "schema_version": 3,
     "solution": true
    }
   },
   "outputs": [],
   "source": [
    "# YOUR CODE HERE\n",
    "raise NotImplementedError()"
   ]
  },
  {
   "cell_type": "markdown",
   "metadata": {
    "deletable": false,
    "nbgrader": {
     "cell_type": "markdown",
     "checksum": "f4a45973ea4e59cd1b581448a1445975",
     "grade": true,
     "grade_id": "cell-3579347744052423",
     "locked": false,
     "points": 5,
     "schema_version": 3,
     "solution": true
    }
   },
   "source": [
    "YOUR ANSWER HERE"
   ]
  },
  {
   "cell_type": "markdown",
   "metadata": {
    "deletable": false,
    "editable": false,
    "nbgrader": {
     "cell_type": "markdown",
     "checksum": "cee8f26690e958b56da9991b9a2fd7fd",
     "grade": false,
     "grade_id": "cell-6569822422469481",
     "locked": true,
     "schema_version": 3,
     "solution": false
    }
   },
   "source": [
    "# Question 3\n",
    "Solving the following PDEs showing the relevant steps and plot a few time snapshots of the solution."
   ]
  },
  {
   "cell_type": "markdown",
   "metadata": {
    "deletable": false,
    "editable": false,
    "nbgrader": {
     "cell_type": "markdown",
     "checksum": "9297498fa46e334765fd1862e112de2c",
     "grade": false,
     "grade_id": "cell-8752958832286466",
     "locked": true,
     "schema_version": 3,
     "solution": false
    }
   },
   "source": [
    "**(a)** [15] $u_t = \\kappa u_{xx}$ with $x \\in \\Omega = (0, L)$, the boundary conditions $u(0, t)_x = 0$ and $u_x(L, t) = 0$, and the initial condition $u(x, 0) = 2 - \\cos\\left(\\frac{\\pi x}{L} \\right) + 3 \\cos\\left(\\frac{3 \\pi x}{L} \\right)$.  When plotting the solution pick a value for $L$ and play with values of $\\kappa$.  Make sure your solution makes sense as $t \\rightarrow \\infty$."
   ]
  },
  {
   "cell_type": "markdown",
   "metadata": {
    "deletable": false,
    "nbgrader": {
     "cell_type": "markdown",
     "checksum": "5422bdd0729178ca0ec3ec673895d735",
     "grade": true,
     "grade_id": "cell-2548330945171796",
     "locked": false,
     "points": 10,
     "schema_version": 3,
     "solution": true
    }
   },
   "source": [
    "YOUR ANSWER HERE"
   ]
  },
  {
   "cell_type": "code",
   "execution_count": null,
   "metadata": {
    "deletable": false,
    "nbgrader": {
     "cell_type": "code",
     "checksum": "d758cb1f7a477fd3c237325548cf7796",
     "grade": true,
     "grade_id": "cell-1316532658198281",
     "locked": false,
     "points": 5,
     "schema_version": 3,
     "solution": true
    }
   },
   "outputs": [],
   "source": [
    "# YOUR CODE HERE\n",
    "raise NotImplementedError()"
   ]
  },
  {
   "cell_type": "markdown",
   "metadata": {
    "deletable": false,
    "editable": false,
    "nbgrader": {
     "cell_type": "markdown",
     "checksum": "615a953daf3fe26f10960f1e14aa25de",
     "grade": false,
     "grade_id": "cell-3497313093990839",
     "locked": true,
     "schema_version": 3,
     "solution": false
    }
   },
   "source": [
    "**(b)** [15] Solve the PDE $u_t + \\left(\\frac{1}{2}u^2\\right)_x = 0$ where $x \\in \\Omega = \\mathbb R$ and the initial conditions\n",
    "$$ \n",
    "    u(x,0) = \\left \\{ \\begin{aligned}\n",
    "        1 & & x \\leq 0 \\\\\n",
    "        2 & & x > 0\n",
    "    \\end{aligned} \\right .\n",
    "$$\n",
    "In addition to plotting the solution also mark the edges of interesting regions such as the rarefaction fan or the shock."
   ]
  },
  {
   "cell_type": "markdown",
   "metadata": {
    "deletable": false,
    "nbgrader": {
     "cell_type": "markdown",
     "checksum": "879c139a782326986599d06c7c12b3e3",
     "grade": true,
     "grade_id": "cell-2036002999432267",
     "locked": false,
     "points": 10,
     "schema_version": 3,
     "solution": true
    }
   },
   "source": [
    "YOUR ANSWER HERE"
   ]
  },
  {
   "cell_type": "code",
   "execution_count": null,
   "metadata": {
    "deletable": false,
    "nbgrader": {
     "cell_type": "code",
     "checksum": "ba6e6c7842e4739ce9aed6c88c9453ec",
     "grade": true,
     "grade_id": "cell-1376908825388010",
     "locked": false,
     "points": 5,
     "schema_version": 3,
     "solution": true
    }
   },
   "outputs": [],
   "source": [
    "# YOUR CODE HERE\n",
    "raise NotImplementedError()"
   ]
  }
 ],
 "metadata": {
  "kernelspec": {
   "display_name": "Python 3",
   "language": "python",
   "name": "python3"
  },
  "language_info": {
   "codemirror_mode": {
    "name": "ipython",
    "version": 3
   },
   "file_extension": ".py",
   "mimetype": "text/x-python",
   "name": "python",
   "nbconvert_exporter": "python",
   "pygments_lexer": "ipython3",
   "version": "3.8.8"
  },
  "latex_envs": {
   "bibliofile": "biblio.bib",
   "cite_by": "apalike",
   "current_citInitial": 1,
   "eqLabelWithNumbers": true,
   "eqNumInitial": 0
  }
 },
 "nbformat": 4,
 "nbformat_minor": 4
}
